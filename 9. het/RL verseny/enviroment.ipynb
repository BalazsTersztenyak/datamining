{
 "cells": [
  {
   "cell_type": "code",
   "execution_count": null,
   "metadata": {},
   "outputs": [],
   "source": [
    "#run this cell if you dont have gym installed\n",
    "%pip install gym\n",
    "%pip install gym[box2d]"
   ]
  },
  {
   "cell_type": "markdown",
   "metadata": {},
   "source": [
    "https://www.gymlibrary.dev/environments/box2d/bipedal_walker/"
   ]
  },
  {
   "cell_type": "code",
   "execution_count": null,
   "metadata": {},
   "outputs": [],
   "source": [
    "import gym   # we get the enviroment from this\n",
    "import matplotlib.pyplot as plt\n",
    "import numpy as np\n",
    "from tqdm import tqdm  #visualize for loop progress\n",
    "import random\n",
    "from matplotlib import animation"
   ]
  },
  {
   "cell_type": "code",
   "execution_count": null,
   "metadata": {},
   "outputs": [],
   "source": [
    "#import Bipedal Walker enviroment from the gym\n",
    "env_name= \"BipedalWalker-v3\"\n",
    "show_run = False    # if it's true run won't be visible\n",
    "\n",
    "if show_run:\n",
    "    env = gym.make(env_name,render_mode=\"human\")\n",
    "else:\n",
    "    env = gym.make(env_name,render_mode=\"rgb_array\")\n",
    "\n",
    "#we need env.reset every time we want to render our enviroment state\n",
    "env.reset()\n",
    "env.render()"
   ]
  },
  {
   "cell_type": "code",
   "execution_count": null,
   "metadata": {},
   "outputs": [],
   "source": [
    "# check the observation space = what state the \"robot\" can be in\n",
    "print(env.observation_space)\n",
    "# check what actions can the robot make\n",
    "print(env.action_space)"
   ]
  },
  {
   "cell_type": "code",
   "execution_count": null,
   "metadata": {},
   "outputs": [],
   "source": [
    "# random agent (every step is random, it doesn't learn anything)\n",
    "def agent_step(env):\n",
    "    return env.action_space.sample()"
   ]
  },
  {
   "cell_type": "code",
   "execution_count": null,
   "metadata": {},
   "outputs": [],
   "source": [
    "def save_frames_as_gif(frames, path='./', filename='gym_animation.gif'):\n",
    "\n",
    "    #Mess with this to change frame size\n",
    "    plt.figure(figsize=(frames[0].shape[1] / 72.0, frames[0].shape[0] / 72.0), dpi=72)\n",
    "\n",
    "    patch = plt.imshow(frames[0])\n",
    "    plt.axis('off')\n",
    "\n",
    "    def animate(i):\n",
    "        patch.set_data(frames[i])\n",
    "\n",
    "    anim = animation.FuncAnimation(plt.gcf(), animate, frames = len(frames), interval=50)\n",
    "    anim.save(path + filename, writer='imagemagick', fps=60)"
   ]
  },
  {
   "cell_type": "markdown",
   "metadata": {},
   "source": [
    "\n",
    "If you want to visualize the run make sure to open the external pygame window with env.render"
   ]
  },
  {
   "cell_type": "code",
   "execution_count": null,
   "metadata": {},
   "outputs": [],
   "source": [
    "env.reset()       #reset before render \n",
    "done = False        #default value of done \n",
    "step = 0            #step counter if robot stuck\n",
    "max_steps = 400     #step patience\n",
    "save_run = True\n",
    "\n",
    "\n",
    "\n",
    "frames = []\n",
    "while not done:    \n",
    "    action = agent_step(env)                            #agent takes a step\n",
    "    state,reward,done,info,_, = env.step(action)         #pass the step to enviroment => returns the effect of the step\n",
    "    step += 1                   \n",
    "    if step > max_steps:                                #check if we passed the step patience\n",
    "        done = True\n",
    "        \n",
    "    frames.append(env.render())\n",
    "    \n",
    "if save_run and not show_run:\n",
    "    save_frames_as_gif(frames)      #show run must be off to save gif\n",
    "\n"
   ]
  }
 ],
 "metadata": {
  "kernelspec": {
   "display_name": "Python 3.10.6 64-bit",
   "language": "python",
   "name": "python3"
  },
  "language_info": {
   "codemirror_mode": {
    "name": "ipython",
    "version": 3
   },
   "file_extension": ".py",
   "mimetype": "text/x-python",
   "name": "python",
   "nbconvert_exporter": "python",
   "pygments_lexer": "ipython3",
   "version": "3.10.6"
  },
  "orig_nbformat": 4,
  "vscode": {
   "interpreter": {
    "hash": "916dbcbb3f70747c44a77c7bcd40155683ae19c65e1c03b4aa3499c5328201f1"
   }
  }
 },
 "nbformat": 4,
 "nbformat_minor": 2
}
