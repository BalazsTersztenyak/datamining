{
 "cells": [
  {
   "cell_type": "markdown",
   "metadata": {},
   "source": [
    "\n",
    "<h2>Python basics</h2>\n"
   ]
  },
  {
   "cell_type": "markdown",
   "metadata": {},
   "source": [
    "<h3>Lists</h3>\n",
    "List is one of the most frequently used data structure in Python and it is mutable or changeable, ordered sequence of elements of same or different data types\n",
    "\n",
    "\n",
    "Note: Python does not have built-in support for Arrays, but Python Lists can be used instead.\n"
   ]
  },
  {
   "cell_type": "code",
   "execution_count": null,
   "metadata": {},
   "outputs": [],
   "source": [
    "#Create lists\n",
    "\n",
    "first_list = ['apple', 1 , 1e-3, 'car']\n",
    "elements = (2,5,1,5,\"1123\")\n",
    "second_list = list(elements)"
   ]
  },
  {
   "cell_type": "markdown",
   "metadata": {},
   "source": [
    "<h3>List comprehension</h3>\n",
    "\n",
    "What it does is simplyfies the creation of a list based on an existing datastructure\n",
    "</br>\n",
    "\n",
    "List comprehension is simplier and slightly faster when you want to create a new list, altough you shouldn't use it when you want to iterate through a list and apply some operation on every element, because in this case traditional for loops are more efficient\n"
   ]
  },
  {
   "cell_type": "code",
   "execution_count": null,
   "metadata": {},
   "outputs": [],
   "source": [
    "# Syntax \n",
    "list_of_ints = [ integer for integer in range(50)]\n",
    "\n",
    "# List comprehension with if statement\n",
    "list_of_evens = [integer for integer in range(50) if integer % 2 == 0]\n",
    "\n",
    "# List comprehension with if/else statement\n",
    "list_of_evens = [integer if integer % 2 == 0 else integer + 1 for integer in range(50)]"
   ]
  },
  {
   "cell_type": "markdown",
   "metadata": {},
   "source": [
    "“Indexing” means referring to an element of an iterable by its position within the iterable. “Slicing” means getting a subset of elements from an iterable based on their indices.\n"
   ]
  },
  {
   "cell_type": "markdown",
   "metadata": {},
   "source": [
    "<h4>Indexing</h4>"
   ]
  },
  {
   "cell_type": "code",
   "execution_count": null,
   "metadata": {},
   "outputs": [],
   "source": [
    "# Retrive the first element of the list\n",
    "my_list = ['apple', 1 , 1e-3, 'car', 2, 5, 1, 'door', 'python', 'car', 42.0, 100.00]\n",
    "first = my_list[0]\n",
    "\n",
    "# Retrive the last element of the list\n",
    "last = [-1]                            # negative numbers allows you to index lists from the end "
   ]
  },
  {
   "cell_type": "markdown",
   "metadata": {},
   "source": [
    "<h4>Slicing</h4>"
   ]
  },
  {
   "cell_type": "code",
   "execution_count": null,
   "metadata": {},
   "outputs": [],
   "source": [
    "# Retrive a subset of the list => list[start:end]  \n",
    "my_list = ['apple', 1 , 1e-3, 'car', 2, 5, 1, 'door', 'python', 'car', 42.0, 100.00]\n",
    "subset = my_list[3:6]               # the end is not included \n",
    "\n",
    "# Get every item from an index to the end\n",
    "from_index = my_list[4:]\n",
    "\n",
    "# Get every element from the start until an index\n",
    "from_start = my_list[:4]\n",
    "\n",
    "# You can also use negative indexes\n",
    "with_negative = my_list[-6:-3]\n",
    "\n",
    "# But be carefull because with negative indexes you have to write the right most to the start position\n",
    "wrong_negative = my_list[-3:-6]     # it won't raise any exceptions but will return an empty list"
   ]
  },
  {
   "cell_type": "markdown",
   "metadata": {},
   "source": [
    "<h4>Stepping</h4></br>\n",
    "The slicer can take an optional third argument, which sets the interval at which elements are included in the slice."
   ]
  },
  {
   "cell_type": "code",
   "execution_count": null,
   "metadata": {},
   "outputs": [],
   "source": [
    "# Retrive from the first every second element\n",
    "my_list = ['apple', 1 , 1e-3, 'car', 2, 5, 1, 'door', 'python', 'car', 42.0, 100.00]\n",
    "sec = my_list[::2]\n",
    "\n",
    "# From the 3. every 3.\n",
    "third = my_list[3::3]\n",
    "\n",
    "# With negative params the iteration is reversed\n",
    "neg = my_list[::-2]\n",
    "\n",
    "# Combine all 3 params [start:end:step]\n",
    "a = my_list[1:6:3]\n",
    "b = my_list[-1:4:-2]"
   ]
  },
  {
   "cell_type": "markdown",
   "metadata": {},
   "source": [
    "<h2>Practice<h2>\n"
   ]
  },
  {
   "cell_type": "code",
   "execution_count": null,
   "metadata": {},
   "outputs": [],
   "source": [
    "import random\n",
    "# 1.1 Create a list of integers, with random numbers in it\n",
    "int_list = [random.randint(0,101) for integer in range(20)]\n",
    "print('List',int_list,sep='\\n')\n",
    "\n",
    "# 1.2 Add 10 more integers to this list\n",
    "list_2 = [random.randint(0,101) for integer in range(10)]\n",
    "int_list.extend(list_2)\n",
    "print('Expanded',int_list,sep='\\n')\n",
    "\n",
    "# 1.3 Add 'middle' to the middle of the list\n",
    "int_list.insert(int(len(int_list) / 2),'middle')\n",
    "print('Middle',int_list,sep='\\n')"
   ]
  },
  {
   "cell_type": "code",
   "execution_count": null,
   "metadata": {},
   "outputs": [],
   "source": [
    "# 1.4.1 Make a copy of this list, remove 'middle' and sort it descending\n",
    "copy = int_list.copy()\n",
    "copy.remove('middle')\n",
    "copy.sort(reverse= True)\n",
    "print('Sorted',copy,sep='\\n')\n",
    "\n",
    "# 1.4.2 Copy the above created sorted list and reverse it\n",
    "rev_copy = copy.copy()\n",
    "rev_copy.reverse()\n",
    "print('Reversed',rev_copy,sep='\\n')\n",
    "# 1.4.3 Iterate through these 2 lists and make a list of tuples of the elements ([(11,100),(21,97),...])\n",
    "pairs = [pair for pair in zip(rev_copy, copy)]  #by zipping the 2 it will iterate through both at the same time\n",
    "print('Pairs',pairs,sep='\\n')"
   ]
  },
  {
   "cell_type": "code",
   "execution_count": null,
   "metadata": {},
   "outputs": [],
   "source": [
    "# 1.5 Make a list out of this string so that each of it's characters is upper-case and an item of a list:\n",
    "#'I love Python'\n",
    "love = [char.upper() for char in 'I love Python']\n",
    "print('String',love,sep='\\n')"
   ]
  },
  {
   "cell_type": "code",
   "execution_count": null,
   "metadata": {},
   "outputs": [],
   "source": [
    "# 1.6 Reverse list below with slicing\n",
    "given = [random.randint(0,1001) for integer in range(20)]\n",
    "reversed_list = given[-1::-1]\n",
    "print('Reversed',reversed_list,sep='\\n')\n",
    "\n",
    "# 1.7 From every second element save the odd ones\n",
    "second_odds = [seconds for seconds in given[::2] if seconds % 2 == 0]\n",
    "print('Odds',second_odds,sep='\\n')"
   ]
  },
  {
   "cell_type": "markdown",
   "metadata": {},
   "source": [
    "<h3>Dictionaries</h3>\n",
    "\n",
    "What is dictionary?\n",
    "Dictionary is a key value pair, with unique keys. The corresponding values can be of any type.\n",
    "In other languages, you might find terms like map, hasmap, lookup table.\n",
    "\n",
    "So, what are dictionaries good for? \n",
    "They are good for accessing elements by key in a quick and readable way without having to search through a full dataset. This means you can achieve both performance gains and write more readable code using dictionaries.\n",
    "\n"
   ]
  },
  {
   "cell_type": "code",
   "execution_count": null,
   "metadata": {},
   "outputs": [],
   "source": [
    "#Creating dictionaries\n",
    "#Basic creations\n",
    "\n",
    "first = {'key_1': 12, 'key_2': 13}\n",
    "\n",
    "second = dict(key_1=12, key_2 = 13)\n",
    "\n",
    "keys = ('key_1','key_2')\n",
    "values = (12, 13)\n",
    "third = dict(zip(keys, values))\n",
    "\n",
    "\n",
    "#Creating by combining multiple dictionaries\n",
    "combined_1 = {**first, **second}            # (*,**) are unpacking operators\n",
    "                                            # first is for tuples, list and string the second is for dictionaries\n",
    "combined_2 = second | third\n",
    "\n",
    "#Creation with dictionary Comprehension\n",
    "power_of_two = {base: 2 ** base for base in range(10)}"
   ]
  },
  {
   "cell_type": "markdown",
   "metadata": {},
   "source": [
    "<h2>Practice<h2>\n"
   ]
  },
  {
   "cell_type": "code",
   "execution_count": null,
   "metadata": {},
   "outputs": [],
   "source": [
    "# 2.1. Make 3 dictionaries each one with at least 3 key-value pairs\n",
    "# At least once use dictionary comprehension\n",
    "dict_1 = {'a'*i : 3**i for i in range(5)}\n",
    "dict_2 = {i : 'at'*i for i in range(6)}\n",
    "dict_3 = {str(i)+str(i) : 3**i for i in range(5)}\n",
    "print('First',dict_1,'Second',dict_2,'Third',dict_3,sep='\\n')\n",
    "\n",
    "# 2.2 Update one of them with a new key-value pair\n",
    "dict_1.update({'idk': 123123})\n",
    "print('Updated',dict_1,sep='\\n')\n",
    "\n",
    "# 2.3 combine these 3 dictionaries into one big\n",
    "combined_1 = {**dict_1,**dict_2,**dict_3}\n",
    "print('Combinded',combined_1,sep='\\n')"
   ]
  },
  {
   "cell_type": "code",
   "execution_count": null,
   "metadata": {},
   "outputs": [],
   "source": [
    "import random\n",
    "# 2.4 Given this large dict\n",
    "large_dict =  {'player_'+ str(id): random.randint(0,31) for id in range(50)}\n",
    "print('Large dict',large_dict,sep='\\n',end='\\n')\n",
    "\n",
    "# 2.4.1 Calculate the average of the values\n",
    "mean = sum(large_dict.values()) / len(large_dict.values())\n",
    "print('Mean',mean, sep='\\n')\n",
    "\n",
    "# 2.4.2 Separate the given dict into two dicts by the condition (value > mean)\n",
    "lower = {key: large_dict[key] for key in large_dict if large_dict[key] < mean}\n",
    "higher = {key: large_dict[key] for key in large_dict if large_dict[key] > mean}\n",
    "print('Lower',lower,'Higher',higher, sep = '\\n')\n"
   ]
  },
  {
   "cell_type": "code",
   "execution_count": null,
   "metadata": {},
   "outputs": [],
   "source": [
    "# 2.5.1 Make a list of integers\n",
    "list_of_ints = [ integer for integer in range(15)]\n",
    "print('List',list_of_ints,sep='\\n')\n",
    "# 2.5.2 Create a dictionary with keys from the integer list\n",
    "# and values with \"even\" or \"odd\"\n",
    "even_odd = {(integer):('even' if integer % 2 == 0 else 'odd') for integer in list_of_ints}\n",
    "print('Even_odd',even_odd,sep='\\n')\n"
   ]
  },
  {
   "cell_type": "code",
   "execution_count": null,
   "metadata": {},
   "outputs": [],
   "source": [
    "# 2.6.1 Make a copy of the above created even-odd dict\n",
    "copy = even_odd.copy()\n",
    "\n",
    "# 2.6.2 Reverse the above created copy_dict  ===> keys = values & values = keys\n",
    "reversed = {'even': [], 'odd': []}\n",
    "for key in copy:\n",
    "    if copy[key] == 'even':\n",
    "        reversed['even'].append(key)\n",
    "    else:\n",
    "        reversed['odd'].append(key)\n",
    "print('Reversed',reversed,sep='\\n')\n",
    "\n",
    "\n",
    "#2.6.3 Combine the original even-odd dict with this reversed dict\n",
    "extended = {**even_odd, **reversed}\n",
    "print('Combined',extended,sep='\\n')"
   ]
  },
  {
   "cell_type": "markdown",
   "metadata": {},
   "source": [
    "<h3>Sets</h2></br>\n",
    "The nature of sets in Python is determined by the set theory in mathematics. The basic features are as following:\n",
    "\n",
    "+ Elements of a set are unordered.\n",
    "+ A set cannot contain duplicate elements.\n",
    "+ There are 3 basic operations on sets: union, intersection and complement."
   ]
  },
  {
   "cell_type": "code",
   "execution_count": null,
   "metadata": {},
   "outputs": [],
   "source": [
    "s = {1, 2, 2, 2,3, 3}\n",
    "print(s)              # duplicate numbers were removed\n",
    "                        # a common trick is to use sets to remove duplicates from a list\n",
    "\n",
    "s = {1, 2, (3, 2)}    # tuple is an immutable type\n",
    "print(s)\n",
    "\n",
    "s = {1, 2, [3, 3]}    # can't contain a mutable type\n"
   ]
  },
  {
   "cell_type": "code",
   "execution_count": null,
   "metadata": {},
   "outputs": [],
   "source": [
    "# There are 3 ways to create a set\n",
    "# 1.\n",
    "s = {1,2,3,5,5}\n",
    "\n",
    "# 2.\n",
    "s = set([1,23,4,6,2])\n",
    "\n",
    "# 3.\n",
    "s = { i for i in range(10)}"
   ]
  },
  {
   "cell_type": "code",
   "execution_count": null,
   "metadata": {},
   "outputs": [],
   "source": [
    "import random\n",
    "# Use built in methods\n",
    "s = { random.randint(0,21) for i in range(40)}\n",
    "print(s)\n",
    "# Adding an element\n",
    "s.add(100)\n",
    "\n",
    "# Remove element \n",
    "s.remove(100)\n",
    "\n",
    "# Remove and return an element\n",
    "element = s.pop()\n",
    "\n",
    "# Discard (no effect if element is not member)\n",
    "s.discard(5)\n"
   ]
  },
  {
   "cell_type": "markdown",
   "metadata": {},
   "source": [
    "Operations of sets"
   ]
  },
  {
   "cell_type": "code",
   "execution_count": null,
   "metadata": {},
   "outputs": [],
   "source": [
    "A = {1, 2, 3}\n",
    "B = {3, 4, 5}\n",
    "\n",
    "# Union\n",
    "# 1. \n",
    "C = A.union(B)\n",
    "\n",
    "# 2. \n",
    "C = A | B\n",
    "\n",
    "# 3. \n",
    "A.update(B)\n",
    "\n",
    "# Intersection\n",
    "# 1. \n",
    "C = A.intersection(B)\n",
    "\n",
    "# 2.\n",
    "C = A & B\n",
    "\n",
    "# 3. \n",
    "A.intersection_update(B)\n",
    "\n",
    "# Difference\n",
    "# 1. \n",
    "C = A.difference(B)\n",
    "\n",
    "# 2. \n",
    "C = A - B\n",
    "\n",
    "# 3. \n",
    "A.difference_update(B)"
   ]
  }
 ],
 "metadata": {
  "kernelspec": {
   "display_name": "Python 3.10.2 ('virtualenv')",
   "language": "python",
   "name": "python3"
  },
  "language_info": {
   "codemirror_mode": {
    "name": "ipython",
    "version": 3
   },
   "file_extension": ".py",
   "mimetype": "text/x-python",
   "name": "python",
   "nbconvert_exporter": "python",
   "pygments_lexer": "ipython3",
   "version": "3.10.2"
  },
  "orig_nbformat": 4,
  "vscode": {
   "interpreter": {
    "hash": "6742798e03423bafdb1d70db1e2ed6be85d9670a336b8e38ab175b061dc6bfd8"
   }
  }
 },
 "nbformat": 4,
 "nbformat_minor": 2
}
