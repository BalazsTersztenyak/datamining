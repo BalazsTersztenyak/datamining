{
 "cells": [
  {
   "cell_type": "code",
   "execution_count": null,
   "metadata": {},
   "outputs": [],
   "source": [
    "import math\n",
    "import numpy as np\n",
    "from copy import deepcopy\n",
    "from random import randint\n",
    "\n",
    "from matplotlib import pyplot as plt\n",
    "%matplotlib inline\n",
    "\n",
    "from sklearn.datasets import make_blobs"
   ]
  },
  {
   "cell_type": "code",
   "execution_count": null,
   "metadata": {},
   "outputs": [],
   "source": [
    "groups = 4\n",
    "\n",
    "# Generate random blob data with 5000 samples,  4 centers and 2 features\n"
   ]
  },
  {
   "cell_type": "code",
   "execution_count": null,
   "metadata": {},
   "outputs": [],
   "source": [
    "# visualize the dataset\n"
   ]
  },
  {
   "cell_type": "code",
   "execution_count": null,
   "metadata": {},
   "outputs": [],
   "source": [
    "# Create a function to generate N random centers\n",
    "def generate_random_centers(x, k):\n",
    "    n_features = x.shape[1]\n",
    "\n",
    "\n",
    "c_positions = generate_random_centers(x, groups)\n",
    "c_positions"
   ]
  },
  {
   "cell_type": "code",
   "execution_count": null,
   "metadata": {},
   "outputs": [],
   "source": [
    "# Visualize the random centers\n"
   ]
  },
  {
   "cell_type": "code",
   "execution_count": null,
   "metadata": {},
   "outputs": [],
   "source": [
    "# Helper functions to calculate the distance between a point and a center\n",
    "def dist(a,b):\n",
    "    com = a-b\n",
    "    sum = 0\n",
    "    for c in com:\n",
    "        sum += c**2\n",
    "    return math.sqrt(sum)\n",
    "    \n",
    "def dist_2d(a,b):\n",
    "    squared_distance = 0\n",
    "    for i in range(len(a)):\n",
    "        squared_distance += (a[i][0] - b[i][0])**2 + (a[i][1] - b[i][1])**2\n",
    "    dist = math.sqrt(squared_distance)\n",
    "    return dist"
   ]
  },
  {
   "cell_type": "code",
   "execution_count": null,
   "metadata": {},
   "outputs": [],
   "source": [
    "def kmeans(x, number_of_clusters, threshold = 0.000001):\n",
    "    \n",
    "    # Generate random centers\n",
    "    centers = generate_random_centers(x ,number_of_clusters)\n",
    "    # craete numpy zeros to store the clusters id of each element\n",
    "    clusters = np.zeros(len(x))\n",
    "    # create numpy zeros to store the previous centers\n",
    "    old_centers = np.zeros(centers.shape)\n",
    "    #set error to 1\n",
    "    \n",
    "\n",
    "    # Iterate until error is less than threshold\n",
    "    \n",
    "\n",
    "        # assign each element to the closest center\n",
    "        # Iterate through each element\n",
    "        \n",
    "            # calculate the distance between the element and each center\n",
    "            \n",
    "            # select the nearest center\n",
    "            \n",
    "            # assign the element to the cluster\n",
    "               \n",
    "        \n",
    "        # save the centers as old centers\n",
    "       \n",
    "\n",
    "        # calculate the new centers by taking the average of each cluster\n",
    "\n",
    "        # Iterate through each cluster\n",
    "        \n",
    "            # select the elements belonging to the cluster\n",
    "           \n",
    "\n",
    "            # calculate the mean of the cluster\n",
    "                  \n",
    "        \n",
    "        # calculate the distance between the new and old centers\n",
    "        \n",
    "    #return the centers and the clusters\n"
   ]
  },
  {
   "cell_type": "code",
   "execution_count": null,
   "metadata": {},
   "outputs": [],
   "source": [
    "# Run the K-means algorithm with 4 clusters and visualize the results\n"
   ]
  },
  {
   "cell_type": "code",
   "execution_count": null,
   "metadata": {},
   "outputs": [],
   "source": [
    "# Run the K-means algorithm with 2,3  clusters and visualize the results\n"
   ]
  }
 ],
 "metadata": {
  "kernelspec": {
   "display_name": "Python 3.10.6 64-bit",
   "language": "python",
   "name": "python3"
  },
  "language_info": {
   "codemirror_mode": {
    "name": "ipython",
    "version": 3
   },
   "file_extension": ".py",
   "mimetype": "text/x-python",
   "name": "python",
   "nbconvert_exporter": "python",
   "pygments_lexer": "ipython3",
   "version": "3.10.6"
  },
  "orig_nbformat": 4,
  "vscode": {
   "interpreter": {
    "hash": "916dbcbb3f70747c44a77c7bcd40155683ae19c65e1c03b4aa3499c5328201f1"
   }
  }
 },
 "nbformat": 4,
 "nbformat_minor": 2
}
